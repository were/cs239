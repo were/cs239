{
 "cells": [
  {
   "cell_type": "code",
   "execution_count": 1,
   "metadata": {},
   "outputs": [],
   "source": [
    "import pandas, subprocess, os, math, random, sys\n",
    "import numpy as np\n",
    "sys.path.append(\".\")\n",
    "import duti.duti as duti\n",
    "import matplotlib.pyplot as plt"
   ]
  },
  {
   "cell_type": "code",
   "execution_count": 2,
   "metadata": {},
   "outputs": [],
   "source": [
    "def init_data(n, ratio=0.05):\n",
    "    step  = math.pi * 2 / n\n",
    "\n",
    "    X = np.arange(0, math.pi * 2, step)\n",
    "    Y = np.sin(X)\n",
    "    X.shape = (X.shape[0], 1)\n",
    "    Y.shape = (Y.shape[0], 1)\n",
    "\n",
    "    XX = np.arange(0, math.pi * 2, step / ratio)\n",
    "    YY = np.sin(XX)\n",
    "    XX.shape = (XX.shape[0], 1)\n",
    "    YY.shape = (YY.shape[0], 1)\n",
    "\n",
    "    return X, Y, XX, YY"
   ]
  },
  {
   "cell_type": "code",
   "execution_count": 3,
   "metadata": {},
   "outputs": [],
   "source": [
    "def uniform_noise(n, Y):\n",
    "    noise = []\n",
    "    for i in range(n):\n",
    "        idx = random.randint(0, Y.shape[0] - 1)\n",
    "        while idx in noise:\n",
    "            idx = random.randint(0, Y.shape[0] - 1)\n",
    "        Y[idx][0] += random.random()\n",
    "        noise.append(idx)\n",
    "    return noise"
   ]
  },
  {
   "cell_type": "code",
   "execution_count": 4,
   "metadata": {},
   "outputs": [],
   "source": [
    "def range_noise(l, r, Y):\n",
    "    Y[l:r] = -Y[l:r]\n",
    "    return list(range(l, r))"
   ]
  },
  {
   "cell_type": "code",
   "execution_count": 5,
   "metadata": {},
   "outputs": [],
   "source": [
    "def find_errs(delta, noise, thr=1e-5):\n",
    "    total = correct = 0\n",
    "    for i, j in enumerate(delta):\n",
    "        if abs(j) > thr:\n",
    "            total += 1\n",
    "            correct += i in noise\n",
    "    if total:\n",
    "        print('Recall: %d / %d = %.2f' % (correct, len(noise), float(correct) / len(noise)))\n",
    "        print('Precision: %d / %d = %.2f' % (correct, total, float(correct) / total))\n",
    "    else:\n",
    "        print('No error found!')"
   ]
  },
  {
   "cell_type": "code",
   "execution_count": 6,
   "metadata": {},
   "outputs": [
    {
     "name": "stdout",
     "output_type": "stream",
     "text": [
      "Recall: 67 / 100 = 0.67\n",
      "Precision: 67 / 67 = 1.00\n"
     ]
    }
   ],
   "source": [
    "X, Y, XX, YY = init_data(500, ratio=0.1)\n",
    "noise = uniform_noise(100, Y)\n",
    "delta = duti.regression(X, Y, XX, YY, np.ones((XX.shape[0], )) * 300, 3.8e-6, 0.8)\n",
    "find_errs(delta, noise, 1e-2)"
   ]
  },
  {
   "cell_type": "code",
   "execution_count": 7,
   "metadata": {},
   "outputs": [
    {
     "data": {
      "text/plain": [
       "[<matplotlib.lines.Line2D at 0x7f9be8f10e90>]"
      ]
     },
     "execution_count": 7,
     "metadata": {},
     "output_type": "execute_result"
    },
    {
     "data": {
      "image/png": "[encoded data removed]",
      "text/plain": [
       "<matplotlib.figure.Figure at 0x7f9be94a4d10>"
      ]
     },
     "metadata": {
      "needs_background": "light"
     },
     "output_type": "display_data"
    }
   ],
   "source": [
    "%matplotlib inline\n",
    "import matplotlib.pyplot as plt\n",
    "fig, ax = plt.subplots(nrows=1, ncols=2)\n",
    "ax[0].plot(X, Y)\n",
    "#ax[1].plot(X, Y+delta)\n",
    "ax[1].plot(X, Y+delta*2)"
   ]
  },
  {
   "cell_type": "code",
   "execution_count": null,
   "metadata": {},
   "outputs": [],
   "source": []
  }
 ],
 "metadata": {
  "kernelspec": {
   "display_name": "Python 2",
   "language": "python",
   "name": "python2"
  },
  "language_info": {
   "codemirror_mode": {
    "name": "ipython",
    "version": 2
   },
   "file_extension": ".py",
   "mimetype": "text/x-python",
   "name": "python",
   "nbconvert_exporter": "python",
   "pygments_lexer": "ipython2",
   "version": "2.7.15"
  }
 },
 "nbformat": 4,
 "nbformat_minor": 2
}
