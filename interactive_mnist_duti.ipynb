{
 "cells": [
  {
   "cell_type": "code",
   "execution_count": 2,
   "metadata": {},
   "outputs": [
    {
     "name": "stderr",
     "output_type": "stream",
     "text": [
      "Using TensorFlow backend.\n"
     ]
    }
   ],
   "source": [
    "from __future__ import print_function\n",
    "import utils.load_mnist as mnist\n",
    "import numpy as np\n",
    "import duti.duti as duti\n",
    "from sklearn.preprocessing import MinMaxScaler\n",
    "from sklearn.decomposition import PCA\n",
    "from sklearn.pipeline import Pipeline"
   ]
  },
  {
   "cell_type": "code",
   "execution_count": 11,
   "metadata": {},
   "outputs": [],
   "source": [
    "np.random.seed(42)\n",
    "train_size = 500\n",
    "test_size = train_size\n",
    "pca_size = 3\n",
    "X, Y, test_X, test_Y = mnist.load_mnist_17(train_size = train_size, test_size = test_size)\n",
    "pipeline = Pipeline([('pca', PCA(n_components=pca_size)), ('scaling', MinMaxScaler(feature_range=(-1, 1)))])\n",
    "pca_X = pipeline.fit_transform(X)\n",
    "pca_test_X = pipeline.transform(test_X)"
   ]
  },
  {
   "cell_type": "code",
   "execution_count": 12,
   "metadata": {},
   "outputs": [],
   "source": [
    "Y_flipped = mnist.flip_mnist_17(pca_X, Y, factor = 0.3, pca_size=pca_size)"
   ]
  },
  {
   "cell_type": "code",
   "execution_count": 13,
   "metadata": {},
   "outputs": [
    {
     "name": "stdout",
     "output_type": "stream",
     "text": [
      "Training with flipped data set:\n",
      "\tTest loss: 0.436106041988\n",
      "\tTest accuracy: 0.956666666667\n"
     ]
    }
   ],
   "source": [
    "flipped_score = mnist.evaluate_mnist(pca_X, Y_flipped, pca_test_X, test_Y, pca_size=pca_size)\n",
    "print('Training with flipped data set:')\n",
    "print('\\tTest loss:', flipped_score[0])\n",
    "print('\\tTest accuracy:', flipped_score[1])"
   ]
  },
  {
   "cell_type": "code",
   "execution_count": 14,
   "metadata": {},
   "outputs": [
    {
     "name": "stdout",
     "output_type": "stream",
     "text": [
      "Training with correct data set:\n",
      "\tTest loss: 0.0748220643649\n",
      "\tTest accuracy: 0.978\n"
     ]
    }
   ],
   "source": [
    "score = mnist.evaluate_mnist(pca_X, Y, pca_test_X, test_Y, pca_size=pca_size)\n",
    "print('Training with correct data set:')\n",
    "print('\\tTest loss:', score[0])\n",
    "print('\\tTest accuracy:', score[1])"
   ]
  },
  {
   "cell_type": "code",
   "execution_count": 23,
   "metadata": {},
   "outputs": [],
   "source": [
    "# Original DUTI Workflow\n",
    "remaining = np.random.choice(X.shape[0], size=X.shape[0], replace=False)\n",
    "checking, remaining = remaining[0], remaining[1:]\n",
    "checked = []\n",
    "trusted_X, trusted_Y, confidence = [], [], []\n",
    "ratio, score, corrected = [0], [flipped_score[1]], [0]"
   ]
  },
  {
   "cell_type": "code",
   "execution_count": 24,
   "metadata": {},
   "outputs": [],
   "source": [
    "from utils.experiment_mnist import *"
   ]
  },
  {
   "cell_type": "code",
   "execution_count": 25,
   "metadata": {
    "scrolled": false
   },
   "outputs": [
    {
     "data": {
      "application/vnd.jupyter.widget-view+json": {
       "model_id": "77572c6e22f0497ca133e04d624001cb",
       "version_major": 2,
       "version_minor": 0
      },
      "text/plain": [
       "SEJveChjaGlsZHJlbj0oVkJveChjaGlsZHJlbj0oSW1hZ2UodmFsdWU9JycsIGhlaWdodD0nMjgyJywgd2lkdGg9JzI4MicpLCBJbnRTbGlkZXIodmFsdWU9MCwgZGVzY3JpcHRpb249dSdDb27igKY=\n"
      ]
     },
     "metadata": {},
     "output_type": "display_data"
    }
   ],
   "source": [
    "def generate_set_trusted(img, acc, corr, conf):\n",
    "    def set_trusted(b):\n",
    "        global remaining, checking, checked\n",
    "        global trusted_X, trusted_Y, confidence, ratio, score, corrected\n",
    "        trusted_X.append(pca_X[checking])\n",
    "        trusted_Y.append([1.] if b.description == '7' else [0.])\n",
    "        confidence.append(float(conf.value) * 2)\n",
    "        delta = duti.regression(pca_X, np.array([Y_flipped]).T, np.array(trusted_X),\n",
    "                                np.array(trusted_Y), np.array(confidence), 1e-6, 0.7)\n",
    "        delta = np.sign(np.array([\n",
    "            0 if (d[0] < 0 and v < 0.5) or (d[0] > 0 and v >= 0.5) or abs(d[0]) < 0.05\n",
    "            else d[0] for (d, v) in zip(delta, Y_flipped)]))\n",
    "        #curr_score = mnist.evaluate_mnist(pca_X, Y_flipped + delta, pca_test_X, test_Y, pca_size=pca_size)\n",
    "        checked.append(checking)\n",
    "        ratio.append(len(checked))\n",
    "        #score.append(curr_score[1])\n",
    "        incorrect = np.nonzero(Y_flipped + delta != Y)[0]\n",
    "        incorrect = incorrect[~np.in1d(incorrect, np.array(checked))]\n",
    "        corrected.append(np.sum(Y_flipped != Y) - incorrect.shape[0])\n",
    "        checking, remaining = remaining[0], remaining[1:]\n",
    "        display_image(X[checking], img)\n",
    "        #display_plot(ratio, score, acc, 'Test accuracy')\n",
    "        display_plot(ratio, corrected, corr, '# fixed')\n",
    "    display_image(X[checking], img)\n",
    "    #display_plot(ratio, score, acc, 'Test accuracy')\n",
    "    display_plot(ratio, corrected, corr, '# fixed')\n",
    "    return set_trusted\n",
    "    \n",
    "img, acc, corr, conf, b1, b7 = build_UI()\n",
    "set_trusted = generate_set_trusted(img, acc, corr, conf)\n",
    "b1.on_click(set_trusted)\n",
    "b7.on_click(set_trusted)"
   ]
  },
  {
   "cell_type": "code",
   "execution_count": 29,
   "metadata": {},
   "outputs": [],
   "source": [
    "np.savez(\n",
    "    'output/duti_results', \n",
    "    ratio=np.array(ratio),\n",
    "    corrected=np.array(corrected),\n",
    "    trusted_X=np.array(trusted_X),\n",
    "    trusted_Y=np.array(trusted_Y),\n",
    "    confidence=np.array(confidence),\n",
    "    checked=np.array(checked)\n",
    ")"
   ]
  },
  {
   "cell_type": "code",
   "execution_count": 27,
   "metadata": {},
   "outputs": [
    {
     "data": {
      "text/plain": [
       "array([ 0,  1,  1,  4,  8, 16, 30, 46, 57, 65, 74, 82, 86, 88, 90, 91, 90,\n",
       "       92, 97, 94, 92, 91, 94, 91, 95, 93, 93, 92, 92, 91, 87, 88, 89, 89,\n",
       "       90, 94, 94, 92, 93, 93, 94, 92, 95, 95])"
      ]
     },
     "execution_count": 27,
     "metadata": {},
     "output_type": "execute_result"
    }
   ],
   "source": [
    "np.array(corrected)"
   ]
  },
  {
   "cell_type": "code",
   "execution_count": null,
   "metadata": {},
   "outputs": [],
   "source": []
  }
 ],
 "metadata": {
  "kernelspec": {
   "display_name": "Python 2",
   "language": "python",
   "name": "python2"
  },
  "language_info": {
   "codemirror_mode": {
    "name": "ipython",
    "version": 2
   },
   "file_extension": ".py",
   "mimetype": "text/x-python",
   "name": "python",
   "nbconvert_exporter": "python",
   "pygments_lexer": "ipython2",
   "version": "2.7.15"
  }
 },
 "nbformat": 4,
 "nbformat_minor": 2
}
