{
 "cells": [
  {
   "cell_type": "code",
   "execution_count": 7,
   "metadata": {},
   "outputs": [],
   "source": [
    "import pandas, subprocess, os, random\n",
    "import numpy as np\n",
    "import duti.duti as duti\n",
    "a = pandas.read_csv('./data/adult.csv')\n",
    "\n",
    "discret = {}\n",
    "norms = {}\n",
    "\n",
    "for i in a:\n",
    "    if len(set(a[i])) < 50:\n",
    "        discret[i] = list(set(a[i]))\n",
    "        norms[i] = len(discret[i])\n",
    "    else:\n",
    "        norms[i] = max(set(a[i]))"
   ]
  },
  {
   "cell_type": "code",
   "execution_count": 8,
   "metadata": {},
   "outputs": [],
   "source": [
    "def obj_to_np(universe, sample):\n",
    "    X = []\n",
    "    Y = []\n",
    "    for i in sample:\n",
    "        row = []\n",
    "        num, obj = i\n",
    "        for j in universe:\n",
    "            if j in discret.keys():\n",
    "                row.append(discret[j].index(obj[j]))\n",
    "            else:\n",
    "                row.append(obj[j])\n",
    "            row[-1] /= norms[j]\n",
    "        X.append(row[:-1])\n",
    "        Y.append([0.0, 1.0][int(row[-1])])\n",
    "    X, Y = np.array(X), np.array(Y)\n",
    "    Y.shape = (Y.shape[0], 1)\n",
    "    return X, Y\n",
    "\n",
    "\n",
    "def random_flip(n, Y):\n",
    "    noise = []\n",
    "    for i in range(n):\n",
    "        idx = random.randint(0, Y.shape[0] - 1)\n",
    "        while idx in noise:\n",
    "            idx = random.randint(0, Y.shape[0] - 1)\n",
    "        Y[idx][0] = 1 - Y[idx][0]\n",
    "        noise.append(idx)\n",
    "    return noise\n",
    "\n",
    "def find_errs(delta, noise, thr=1e-5):\n",
    "    total = correct = 0\n",
    "    found = []\n",
    "    for i, j in enumerate(delta):\n",
    "        if abs(j) >= thr:\n",
    "            total += 1\n",
    "            if i in noise:\n",
    "                correct += 1\n",
    "                found.append(i)\n",
    "    if total:\n",
    "        print('Recall: %d / %d = %.2f' % (correct, len(noise), float(correct) / len(noise)))\n",
    "        print('Precision: %d / %d = %.2f' % (correct, total, float(correct) / total))\n",
    "    else:\n",
    "        print('No error found!')"
   ]
  },
  {
   "cell_type": "code",
   "execution_count": 9,
   "metadata": {},
   "outputs": [
    {
     "name": "stdout",
     "output_type": "stream",
     "text": [
      "Recall: 100 / 100 = 1.00\n",
      "Precision: 100 / 100 = 1.00\n"
     ]
    }
   ],
   "source": [
    "list_a = list(a.iterrows())\n",
    "train_a = random.sample(list_a, 1000)\n",
    "trust_a = random.sample(list_a, 100)\n",
    "\n",
    "X, Y = obj_to_np(a, train_a)\n",
    "noise = random_flip(100, Y)\n",
    "XX, YY = obj_to_np(a, trust_a)\n",
    "\n",
    "deltas = duti.regression(X, Y, XX, YY, np.ones((100, )) * 200., 1e-6, 0.7)\n",
    "\n",
    "find_errs(deltas, noise, 1e-4)"
   ]
  },
  {
   "cell_type": "code",
   "execution_count": 6,
   "metadata": {},
   "outputs": [
    {
     "data": {
      "text/plain": [
       "(1000, 14)"
      ]
     },
     "execution_count": 6,
     "metadata": {},
     "output_type": "execute_result"
    }
   ],
   "source": [
    "X.shape"
   ]
  },
  {
   "cell_type": "code",
   "execution_count": null,
   "metadata": {},
   "outputs": [],
   "source": []
  }
 ],
 "metadata": {
  "kernelspec": {
   "display_name": "Python 2",
   "language": "python",
   "name": "python2"
  },
  "language_info": {
   "codemirror_mode": {
    "name": "ipython",
    "version": 2
   },
   "file_extension": ".py",
   "mimetype": "text/x-python",
   "name": "python",
   "nbconvert_exporter": "python",
   "pygments_lexer": "ipython2",
   "version": "2.7.15"
  }
 },
 "nbformat": 4,
 "nbformat_minor": 2
}
